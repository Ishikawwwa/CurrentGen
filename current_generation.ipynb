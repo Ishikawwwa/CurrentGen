version https://git-lfs.github.com/spec/v1
oid sha256:092c40912eb9f6f5c64d6a2c2dd70cf4f9f90be8bcf2d1714000ff343934d6a6
size 6468756
